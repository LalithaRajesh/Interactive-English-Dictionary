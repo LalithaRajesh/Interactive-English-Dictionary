{
 "cells": [
  {
   "cell_type": "markdown",
   "metadata": {},
   "source": [
    "# How to Build an Interactive English Dictionary?"
   ]
  },
  {
   "cell_type": "markdown",
   "metadata": {},
   "source": [
    "### The below steps are useful to build a dictionary. Comments enclosed will help to understand the context much better."
   ]
  },
  {
   "cell_type": "code",
   "execution_count": 11,
   "metadata": {},
   "outputs": [
    {
     "name": "stdout",
     "output_type": "stream",
     "text": [
      "Enter the word:rain\n",
      "['Precipitation in the form of liquid water drops with diameters greater than 0.5 millimetres.', 'To fall from the clouds in drops of water.']\n"
     ]
    }
   ],
   "source": [
    "import json\n",
    "\n",
    "#Loading the Json File\n",
    "data = json.load(open('C:/Users/Rajesh/Downloads/data.json'))\n",
    "\n",
    "#function to translate the meaning of a word \n",
    "def translate(word):\n",
    "    if word in data:\n",
    "        return data[word]\n",
    "    else:\n",
    "        return \"Sorry!! The word doesn't exist.\"\n",
    "\n",
    "#Request the user to provide the input\n",
    "word= input(\"Enter the word:\")\n",
    "\n",
    "#Now apply the function \"translate\" on the word.\n",
    "print (translate(word))"
   ]
  },
  {
   "cell_type": "markdown",
   "metadata": {},
   "source": [
    "#### So, we now can enter the word and find its meaning successfully. But, what happens if a user provides an input with upper case? Inorder to tackle this, let us enhance the code to handle the upper case alphabets as well. "
   ]
  },
  {
   "cell_type": "code",
   "execution_count": 7,
   "metadata": {},
   "outputs": [
    {
     "name": "stdout",
     "output_type": "stream",
     "text": [
      "Enter the word:rain\n",
      "['Precipitation in the form of liquid water drops with diameters greater than 0.5 millimetres.', 'To fall from the clouds in drops of water.']\n"
     ]
    }
   ],
   "source": [
    "import json\n",
    "\n",
    "#Loading the Json File\n",
    "data = json.load(open('C:/Users/Rajesh/Downloads/data.json'))\n",
    "\n",
    "#function to translate the meaning of a word \n",
    "def translate(word):\n",
    "    #Convert the input word to lower case\n",
    "    word= word.lower()\n",
    "    data[word] = data[word].lower()\n",
    "    if word in data:\n",
    "        return data[word]\n",
    "    else:\n",
    "        return \"Sorry!! The word doesn't exist.\"\n",
    "\n",
    "#Request the user to provide the input\n",
    "word= input(\"Enter the word:\")\n",
    "\n",
    "#Now apply the function \"translate\" on the word.\n",
    "print (translate(word))"
   ]
  },
  {
   "cell_type": "markdown",
   "metadata": {},
   "source": [
    "#### In the above  scenario, we have converted the input word to lower case by default. Hence, we handled the case sensitivity successfully. \n",
    "\n",
    "#### Alright!, But there is a another problem. Say if the word \"rain\" is mispelt as \"rainn\", then the dictionary would state \"Sorry!! The word doesn't exist.\" Hence, we will now make the dictionary much intelligent enough to understand the similarity between words."
   ]
  },
  {
   "cell_type": "code",
   "execution_count": 11,
   "metadata": {},
   "outputs": [
    {
     "data": {
      "text/plain": [
       "0.8888888888888888"
      ]
     },
     "execution_count": 11,
     "metadata": {},
     "output_type": "execute_result"
    }
   ],
   "source": [
    "#This is a library to compare the text\n",
    "import difflib\n",
    "#Sequence Matcher - If we compare two blocks of texts, one with the input word and the other with the actual word, \n",
    "#it helps us to identify the ratio of similarity between the words.\n",
    "from difflib import SequenceMatcher\n",
    "\n",
    "SequenceMatcher(None,\"rainn\",\"rain\").ratio()"
   ]
  },
  {
   "cell_type": "code",
   "execution_count": 12,
   "metadata": {},
   "outputs": [
    {
     "data": {
      "text/plain": [
       "['rain']"
      ]
     },
     "execution_count": 12,
     "metadata": {},
     "output_type": "execute_result"
    }
   ],
   "source": [
    "#Introducing a new function called get_close_matches\n",
    "from difflib import get_close_matches\n",
    "\n",
    "#Let us see how it works here: Please consider the folowing example.\n",
    "get_close_matches(\"rainn\",[\"rain\",\"pyramid\",\"book\"])\n",
    "#Hence, the below output value shows the best closest match to rainn is 'rain'"
   ]
  },
  {
   "cell_type": "code",
   "execution_count": 13,
   "metadata": {},
   "outputs": [
    {
     "data": {
      "text/plain": [
       "['rain', 'train', 'rainy', 'grain', 'drain']"
      ]
     },
     "execution_count": 13,
     "metadata": {},
     "output_type": "execute_result"
    }
   ],
   "source": [
    "#Thus applying the above method to our scenario:\n",
    "get_close_matches(\"rainn\", data.keys(),n=5) #----> specifying n=5, brings the top 5 matches."
   ]
  },
  {
   "cell_type": "code",
   "execution_count": 14,
   "metadata": {},
   "outputs": [
    {
     "data": {
      "text/plain": [
       "'rain'"
      ]
     },
     "execution_count": 14,
     "metadata": {},
     "output_type": "execute_result"
    }
   ],
   "source": [
    "#As of now, we can ignore the other matches and just consider the first closest match alone. Hence, we'll get the first index.\n",
    "get_close_matches(\"rainn\", data.keys())[0]"
   ]
  },
  {
   "cell_type": "code",
   "execution_count": 2,
   "metadata": {},
   "outputs": [
    {
     "name": "stdout",
     "output_type": "stream",
     "text": [
      "Enter the word:rainn\n",
      "Did you mean rain instead ?\n"
     ]
    }
   ],
   "source": [
    "#Now,\n",
    "import json\n",
    "from difflib import get_close_matches\n",
    "\n",
    "#Loading the Json File\n",
    "data = json.load(open('C:/Users/Rajesh/Downloads/data.json'))\n",
    "\n",
    "#function to translate the meaning of a word \n",
    "def translate(word):\n",
    "    #Convert the input word to lower case\n",
    "    word= word.lower()\n",
    "    if word in data:\n",
    "        return data[word]\n",
    "    elif len(get_close_matches(word,data.keys())) > 0:\n",
    "        return \"Did you mean %s instead ?\"% get_close_matches(word,data.keys())[0]\n",
    "    else:\n",
    "        return \"Sorry!! The word doesn't exist.\"\n",
    "\n",
    "#Request the user to provide the input\n",
    "word= input(\"Enter the word:\")\n",
    "\n",
    "#Now apply the function \"translate\" on the word.\n",
    "print (translate(word))"
   ]
  },
  {
   "cell_type": "markdown",
   "metadata": {},
   "source": [
    "#### Hence, in the above statement, Please see that the program asked a question \"Did you mean rain instead ?\". Thus, we have to make the code intelligent enough to understand the user's reply. Now let us enhance our code by adding Yes or No statements to it."
   ]
  },
  {
   "cell_type": "code",
   "execution_count": 3,
   "metadata": {},
   "outputs": [
    {
     "name": "stdout",
     "output_type": "stream",
     "text": [
      "Enter the word:rainn\n",
      "Did you mean rain instead ? Enter Y for yes, or N if no: Y\n",
      "['Precipitation in the form of liquid water drops with diameters greater than 0.5 millimetres.', 'To fall from the clouds in drops of water.']\n"
     ]
    }
   ],
   "source": [
    "import json\n",
    "from difflib import get_close_matches\n",
    "\n",
    "#Loading the Json File\n",
    "data = json.load(open('C:/Users/Rajesh/Downloads/data.json'))\n",
    "\n",
    "#function to translate the meaning of a word \n",
    "def translate(word):\n",
    "    #Convert the input word to lower case\n",
    "    word= word.lower()\n",
    "    if word in data:\n",
    "        return data[word]\n",
    "    elif len(get_close_matches(word,data.keys())) > 0:\n",
    "        yn = input(\"Did you mean %s instead ? Enter Y for yes, or N if no: \" % get_close_matches(word,data.keys())[0])\n",
    "        if yn == \"Y\":\n",
    "            return data[get_close_matches(word,data.keys())[0]]\n",
    "        elif yn == 'N':\n",
    "            return \"The word doesn't exist. Please double check it\"\n",
    "        else:\n",
    "            return \"we didn't understand your entry\"\n",
    "    else:\n",
    "        return \"Sorry!! The word doesn't exist.\"\n",
    "\n",
    "#Request the user to provide the input\n",
    "word= input(\"Enter the word:\")\n",
    "\n",
    "#Now apply the function \"translate\" on the word.\n",
    "print (translate(word))"
   ]
  },
  {
   "cell_type": "markdown",
   "metadata": {},
   "source": [
    "#### Wow! We now made the best program to understand the User's choice. But if you see the above code, the output is still a list and  this has to be definitely modified to make the output easily readable."
   ]
  },
  {
   "cell_type": "code",
   "execution_count": 8,
   "metadata": {},
   "outputs": [
    {
     "name": "stdout",
     "output_type": "stream",
     "text": [
      "Enter the word:AMALGAMATION\n",
      "The process or result of fusing items into one entity.\n"
     ]
    }
   ],
   "source": [
    "#So, let us modify the code to produce a get a best readable output:\n",
    "import json\n",
    "from difflib import get_close_matches\n",
    "\n",
    "#Loading the Json File\n",
    "data = json.load(open('C:/Users/Rajesh/Downloads/data.json'))\n",
    "\n",
    "#function to translate the meaning of a word \n",
    "def translate(word):\n",
    "    #Convert the input word to lower case\n",
    "    word= word.lower()\n",
    "    if word in data:\n",
    "        return data[word]\n",
    "    elif len(get_close_matches(word,data.keys())) > 0:\n",
    "        yn = input(\"Did you mean %s instead ? Enter Y for yes, or N if no: \" % get_close_matches(word,data.keys())[0])\n",
    "        if yn == \"Y\":\n",
    "            return data[get_close_matches(word,data.keys())[0]]\n",
    "        elif yn == 'N':\n",
    "            return \"The word doesn't exist. Please double check it\"\n",
    "        else:\n",
    "            return \"we didn't understand your entry\"\n",
    "    else:\n",
    "        return \"Sorry!! The word doesn't exist.\"\n",
    "\n",
    "#Request the user to provide the input\n",
    "word= input(\"Enter the word:\")\n",
    "\n",
    "output = translate(word)\n",
    "\n",
    "if type(output) == list:\n",
    "    for item in output:\n",
    "        print(item)\n",
    "\n",
    "else:\n",
    "    print(output)\n",
    "            "
   ]
  },
  {
   "cell_type": "markdown",
   "metadata": {},
   "source": [
    "#### Cool! The Interactive English Dictionary is now ready :)"
   ]
  },
  {
   "cell_type": "code",
   "execution_count": 12,
   "metadata": {},
   "outputs": [
    {
     "name": "stdout",
     "output_type": "stream",
     "text": [
      "Enter the word:Delhi\n",
      "The largest metropolis by area and the second-largest metropolis by population in India.\n"
     ]
    }
   ],
   "source": [
    "#Even though it is ready, adding few things to the code make our dictionary to be extra efficient\n",
    "\n",
    "import json\n",
    "from difflib import get_close_matches\n",
    "\n",
    "#Loading the Json File\n",
    "data = json.load(open('C:/Users/Rajesh/Downloads/data.json'))\n",
    "\n",
    "#function to translate the meaning of a word \n",
    "def translate(word):\n",
    "    #Convert the input word to lower case\n",
    "    word= word.lower()\n",
    "    if word in data:\n",
    "        return data[word]\n",
    "#Here, we make sure the program returns the definition of words that start with a capital letter (e.g. Delhi or Texas):\n",
    "    elif word.title() in data: #if user entered \"texas\" this will check for \"Texas\" as well.\n",
    "        return data[word.title()]\n",
    "    elif len(get_close_matches(word,data.keys())) > 0:\n",
    "        yn = input(\"Did you mean %s instead ? Enter Y for yes, or N if no: \" % get_close_matches(word,data.keys())[0])\n",
    "        if yn == \"Y\":\n",
    "            return data[get_close_matches(word,data.keys())[0]]\n",
    "        elif yn == 'N':\n",
    "            return \"The word doesn't exist. Please double check it\"\n",
    "        else:\n",
    "            return \"we didn't understand your entry\"\n",
    "    else:\n",
    "        return \"Sorry!! The word doesn't exist.\"\n",
    "\n",
    "#Request the user to provide the input\n",
    "word= input(\"Enter the word:\")\n",
    "\n",
    "output = translate(word)\n",
    "\n",
    "if type(output) == list:\n",
    "    for item in output:\n",
    "        print(item)\n",
    "\n",
    "else:\n",
    "    print(output)"
   ]
  },
  {
   "cell_type": "code",
   "execution_count": 17,
   "metadata": {},
   "outputs": [
    {
     "name": "stdout",
     "output_type": "stream",
     "text": [
      "Enter the word:UK\n",
      "A country in Western Europe (comprising Wales, Scotland, England and Northern Ireland) with the capital London.\n"
     ]
    }
   ],
   "source": [
    "#What happens if any Acronym is called?? Say USA, UK, NASA etc... So, lets add another elif statement\n",
    "\n",
    "import json\n",
    "from difflib import get_close_matches\n",
    "\n",
    "#Loading the Json File\n",
    "data = json.load(open('C:/Users/Rajesh/Downloads/data.json'))\n",
    "\n",
    "#function to translate the meaning of a word \n",
    "def translate(word):\n",
    "    #Convert the input word to lower case\n",
    "    word= word.lower()\n",
    "    if word in data:\n",
    "        return data[word]\n",
    "    elif word.title() in data: \n",
    "        return data[word.title()]\n",
    "    elif word.upper() in data: #in case user enters words like USA or UK\n",
    "        return data[word.upper()]\n",
    "    elif len(get_close_matches(word,data.keys())) > 0:\n",
    "        yn = input(\"Did you mean %s instead ? Enter Y for yes, or N if no: \" % get_close_matches(word,data.keys())[0])\n",
    "        if yn == \"Y\":\n",
    "            return data[get_close_matches(word,data.keys())[0]]\n",
    "        elif yn == 'N':\n",
    "            return \"The word doesn't exist. Please double check it\"\n",
    "        else:\n",
    "            return \"we didn't understand your entry\"\n",
    "    else:\n",
    "        return \"Sorry!! The word doesn't exist.\"\n",
    "\n",
    "#Request the user to provide the input\n",
    "word= input(\"Enter the word:\")\n",
    "\n",
    "output = translate(word)\n",
    "\n",
    "if type(output) == list:\n",
    "    for item in output:\n",
    "        print(item)\n",
    "\n",
    "else:\n",
    "    print(output)"
   ]
  },
  {
   "cell_type": "code",
   "execution_count": null,
   "metadata": {},
   "outputs": [],
   "source": []
  },
  {
   "cell_type": "code",
   "execution_count": null,
   "metadata": {},
   "outputs": [],
   "source": []
  }
 ],
 "metadata": {
  "kernelspec": {
   "display_name": "Python 3",
   "language": "python",
   "name": "python3"
  },
  "language_info": {
   "codemirror_mode": {
    "name": "ipython",
    "version": 3
   },
   "file_extension": ".py",
   "mimetype": "text/x-python",
   "name": "python",
   "nbconvert_exporter": "python",
   "pygments_lexer": "ipython3",
   "version": "3.7.4"
  }
 },
 "nbformat": 4,
 "nbformat_minor": 2
}
